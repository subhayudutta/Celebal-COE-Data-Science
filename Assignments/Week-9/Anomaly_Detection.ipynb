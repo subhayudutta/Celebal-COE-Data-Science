{
 "cells": [
  {
   "cell_type": "markdown",
   "id": "804a6038",
   "metadata": {},
   "source": [
    "## Anomaly Detection\n",
    "\n",
    "This project aims to perform anomaly detection using machine learning models. It involves data preprocessing, model training, evaluation, and prediction on test data. The project utilizes several Python libraries, including numpy, pandas, matplotlib, and seaborn.\n",
    "\n",
    "### Dataset Download:\n",
    "The dataset can be downloaded from the following link: [Anomaly Detection Dataset](https://www.kaggle.com/competitions/anomaly-detection/data)"
   ]
  },
  {
   "cell_type": "markdown",
   "id": "c9c77613",
   "metadata": {},
   "source": [
    "## Importing necessary libraries"
   ]
  },
  {
   "cell_type": "code",
   "execution_count": 69,
   "id": "5a579317",
   "metadata": {},
   "outputs": [],
   "source": [
    "import pandas as pd\n",
    "import numpy as np\n",
    "import matplotlib.pyplot as plt\n",
    "from sklearn.model_selection import train_test_split, GridSearchCV\n",
    "from sklearn.preprocessing import StandardScaler, LabelEncoder\n",
    "from sklearn.metrics import accuracy_score, confusion_matrix, classification_report,precision_score, recall_score, f1_score\n",
    "from sklearn.linear_model import LogisticRegression\n",
    "from sklearn.tree import DecisionTreeClassifier\n",
    "from sklearn.ensemble import RandomForestClassifier, GradientBoostingClassifier\n",
    "from sklearn.svm import SVC\n",
    "from sklearn.neighbors import KNeighborsClassifier\n",
    "from xgboost import XGBClassifier\n",
    "from collections import Counter\n",
    "from imblearn.over_sampling import SMOTE\n",
    "import warnings\n",
    "warnings.filterwarnings(\"ignore\")"
   ]
  },
  {
   "cell_type": "markdown",
   "id": "b8683f9f",
   "metadata": {},
   "source": [
    "## Loading training and test datasets"
   ]
  },
  {
   "cell_type": "code",
   "execution_count": 70,
   "id": "2df53705",
   "metadata": {},
   "outputs": [],
   "source": [
    "train_df = pd.read_csv('anomaly-detection-dataset/train.csv')\n",
    "test_df = pd.read_csv('anomaly-detection-dataset/test.csv')"
   ]
  },
  {
   "cell_type": "code",
   "execution_count": 71,
   "id": "19d113bc",
   "metadata": {},
   "outputs": [
    {
     "data": {
      "text/html": [
       "<div>\n",
       "<style scoped>\n",
       "    .dataframe tbody tr th:only-of-type {\n",
       "        vertical-align: middle;\n",
       "    }\n",
       "\n",
       "    .dataframe tbody tr th {\n",
       "        vertical-align: top;\n",
       "    }\n",
       "\n",
       "    .dataframe thead th {\n",
       "        text-align: right;\n",
       "    }\n",
       "</style>\n",
       "<table border=\"1\" class=\"dataframe\">\n",
       "  <thead>\n",
       "    <tr style=\"text-align: right;\">\n",
       "      <th></th>\n",
       "      <th>timestamp</th>\n",
       "      <th>value</th>\n",
       "      <th>is_anomaly</th>\n",
       "      <th>predicted</th>\n",
       "    </tr>\n",
       "  </thead>\n",
       "  <tbody>\n",
       "    <tr>\n",
       "      <th>0</th>\n",
       "      <td>1425008573</td>\n",
       "      <td>42</td>\n",
       "      <td>False</td>\n",
       "      <td>44.072500</td>\n",
       "    </tr>\n",
       "    <tr>\n",
       "      <th>1</th>\n",
       "      <td>1425008873</td>\n",
       "      <td>41</td>\n",
       "      <td>False</td>\n",
       "      <td>50.709390</td>\n",
       "    </tr>\n",
       "    <tr>\n",
       "      <th>2</th>\n",
       "      <td>1425009173</td>\n",
       "      <td>41</td>\n",
       "      <td>False</td>\n",
       "      <td>81.405120</td>\n",
       "    </tr>\n",
       "    <tr>\n",
       "      <th>3</th>\n",
       "      <td>1425009473</td>\n",
       "      <td>61</td>\n",
       "      <td>False</td>\n",
       "      <td>39.950367</td>\n",
       "    </tr>\n",
       "    <tr>\n",
       "      <th>4</th>\n",
       "      <td>1425009773</td>\n",
       "      <td>44</td>\n",
       "      <td>False</td>\n",
       "      <td>35.350160</td>\n",
       "    </tr>\n",
       "  </tbody>\n",
       "</table>\n",
       "</div>"
      ],
      "text/plain": [
       "    timestamp  value  is_anomaly  predicted\n",
       "0  1425008573     42       False  44.072500\n",
       "1  1425008873     41       False  50.709390\n",
       "2  1425009173     41       False  81.405120\n",
       "3  1425009473     61       False  39.950367\n",
       "4  1425009773     44       False  35.350160"
      ]
     },
     "execution_count": 71,
     "metadata": {},
     "output_type": "execute_result"
    }
   ],
   "source": [
    "train_df.head()"
   ]
  },
  {
   "cell_type": "markdown",
   "id": "8bd240de",
   "metadata": {},
   "source": [
    "## Data Preprocessing"
   ]
  },
  {
   "cell_type": "code",
   "execution_count": 72,
   "id": "bccb20a9",
   "metadata": {},
   "outputs": [
    {
     "data": {
      "text/plain": [
       "timestamp     0\n",
       "value         0\n",
       "is_anomaly    0\n",
       "predicted     0\n",
       "dtype: int64"
      ]
     },
     "execution_count": 72,
     "metadata": {},
     "output_type": "execute_result"
    }
   ],
   "source": [
    "# Checking for missing values\n",
    "train_df.isnull().sum()"
   ]
  },
  {
   "cell_type": "code",
   "execution_count": 73,
   "id": "a04da42a",
   "metadata": {},
   "outputs": [],
   "source": [
    "label_encoder = LabelEncoder()\n",
    "train_df['is_anomaly'] = label_encoder.fit_transform(train_df['is_anomaly'])"
   ]
  },
  {
   "cell_type": "code",
   "execution_count": 74,
   "id": "6477f873",
   "metadata": {},
   "outputs": [
    {
     "data": {
      "text/html": [
       "<div>\n",
       "<style scoped>\n",
       "    .dataframe tbody tr th:only-of-type {\n",
       "        vertical-align: middle;\n",
       "    }\n",
       "\n",
       "    .dataframe tbody tr th {\n",
       "        vertical-align: top;\n",
       "    }\n",
       "\n",
       "    .dataframe thead th {\n",
       "        text-align: right;\n",
       "    }\n",
       "</style>\n",
       "<table border=\"1\" class=\"dataframe\">\n",
       "  <thead>\n",
       "    <tr style=\"text-align: right;\">\n",
       "      <th></th>\n",
       "      <th>timestamp</th>\n",
       "      <th>value</th>\n",
       "      <th>is_anomaly</th>\n",
       "      <th>predicted</th>\n",
       "    </tr>\n",
       "  </thead>\n",
       "  <tbody>\n",
       "    <tr>\n",
       "      <th>count</th>\n",
       "      <td>1.583000e+04</td>\n",
       "      <td>15830.000000</td>\n",
       "      <td>15830.000000</td>\n",
       "      <td>15830.000000</td>\n",
       "    </tr>\n",
       "    <tr>\n",
       "      <th>mean</th>\n",
       "      <td>1.427383e+09</td>\n",
       "      <td>85.572205</td>\n",
       "      <td>0.049021</td>\n",
       "      <td>71.870715</td>\n",
       "    </tr>\n",
       "    <tr>\n",
       "      <th>std</th>\n",
       "      <td>1.370962e+06</td>\n",
       "      <td>321.760918</td>\n",
       "      <td>0.215918</td>\n",
       "      <td>92.450520</td>\n",
       "    </tr>\n",
       "    <tr>\n",
       "      <th>min</th>\n",
       "      <td>1.425009e+09</td>\n",
       "      <td>0.000000</td>\n",
       "      <td>0.000000</td>\n",
       "      <td>-281.389070</td>\n",
       "    </tr>\n",
       "    <tr>\n",
       "      <th>25%</th>\n",
       "      <td>1.426196e+09</td>\n",
       "      <td>29.000000</td>\n",
       "      <td>0.000000</td>\n",
       "      <td>32.919171</td>\n",
       "    </tr>\n",
       "    <tr>\n",
       "      <th>50%</th>\n",
       "      <td>1.427383e+09</td>\n",
       "      <td>47.000000</td>\n",
       "      <td>0.000000</td>\n",
       "      <td>49.771124</td>\n",
       "    </tr>\n",
       "    <tr>\n",
       "      <th>75%</th>\n",
       "      <td>1.428570e+09</td>\n",
       "      <td>76.000000</td>\n",
       "      <td>0.000000</td>\n",
       "      <td>75.948052</td>\n",
       "    </tr>\n",
       "    <tr>\n",
       "      <th>max</th>\n",
       "      <td>1.429757e+09</td>\n",
       "      <td>13479.000000</td>\n",
       "      <td>1.000000</td>\n",
       "      <td>2716.127200</td>\n",
       "    </tr>\n",
       "  </tbody>\n",
       "</table>\n",
       "</div>"
      ],
      "text/plain": [
       "          timestamp         value    is_anomaly     predicted\n",
       "count  1.583000e+04  15830.000000  15830.000000  15830.000000\n",
       "mean   1.427383e+09     85.572205      0.049021     71.870715\n",
       "std    1.370962e+06    321.760918      0.215918     92.450520\n",
       "min    1.425009e+09      0.000000      0.000000   -281.389070\n",
       "25%    1.426196e+09     29.000000      0.000000     32.919171\n",
       "50%    1.427383e+09     47.000000      0.000000     49.771124\n",
       "75%    1.428570e+09     76.000000      0.000000     75.948052\n",
       "max    1.429757e+09  13479.000000      1.000000   2716.127200"
      ]
     },
     "execution_count": 74,
     "metadata": {},
     "output_type": "execute_result"
    }
   ],
   "source": [
    "train_df.describe()"
   ]
  },
  {
   "cell_type": "code",
   "execution_count": 75,
   "id": "270c4eed",
   "metadata": {},
   "outputs": [
    {
     "data": {
      "image/png": "[encoded data removed]",
      "text/plain": [
       "<Figure size 2000x1500 with 4 Axes>"
      ]
     },
     "metadata": {},
     "output_type": "display_data"
    }
   ],
   "source": [
    "# Plotting the histogram\n",
    "train_df.hist(bins=50, figsize=(20,15))\n",
    "plt.show()"
   ]
  },
  {
   "cell_type": "code",
   "execution_count": 76,
   "id": "fa7836ea",
   "metadata": {
    "scrolled": false
   },
   "outputs": [
    {
     "data": {
      "image/png": "[encoded data removed]",
      "text/plain": [
       "<Figure size 400x400 with 1 Axes>"
      ]
     },
     "metadata": {},
     "output_type": "display_data"
    }
   ],
   "source": [
    "# Plotting the histogram for isAnomaly\n",
    "plt.figure(figsize=(4, 4))\n",
    "train_df['is_anomaly'].value_counts().plot(kind='bar', color=['blue', 'orange'])\n",
    "plt.title('Number of True and False in isAnomaly')\n",
    "plt.xlabel('isAnomaly')\n",
    "plt.ylabel('Count')\n",
    "plt.xticks([0, 1], ['False', 'True'], rotation=0)\n",
    "plt.tight_layout()\n",
    "plt.show()"
   ]
  },
  {
   "cell_type": "markdown",
   "id": "5a07112b",
   "metadata": {},
   "source": [
    "#### To address the imbalance in this dataset, where the number of True instances is less than False, we will apply SMOTE for balancing"
   ]
  },
  {
   "cell_type": "code",
   "execution_count": 77,
   "id": "5e91541f",
   "metadata": {
    "scrolled": false
   },
   "outputs": [
    {
     "data": {
      "image/png": "[encoded data removed]",
      "text/plain": [
       "<Figure size 600x500 with 2 Axes>"
      ]
     },
     "metadata": {},
     "output_type": "display_data"
    }
   ],
   "source": [
    "# Displaying correlation matrix\n",
    "corr_matrix_train = train_df.corr()\n",
    "\n",
    "plt.figure(figsize=(6, 5)) \n",
    "\n",
    "plt.imshow(corr_matrix_train, cmap='coolwarm', interpolation='nearest')\n",
    "\n",
    "plt.colorbar()\n",
    "\n",
    "plt.xticks(np.arange(len(corr_matrix_train.columns)), corr_matrix_train.columns, rotation=45, fontsize=8)  \n",
    "plt.yticks(np.arange(len(corr_matrix_train.columns)), corr_matrix_train.columns, fontsize=8)  \n",
    "\n",
    "for i in range(len(corr_matrix_train.columns)):\n",
    "    for j in range(len(corr_matrix_train.columns)):\n",
    "        plt.text(j, i, f\"{corr_matrix_train.iloc[i, j]:.2f}\", ha='center', va='center', color='black', fontsize=8) \n",
    "plt.title('Correlation between features', fontsize=10) \n",
    "plt.tight_layout()\n",
    "plt.show()\n"
   ]
  },
  {
   "cell_type": "markdown",
   "id": "1c4169da",
   "metadata": {},
   "source": [
    "## Dividing the dataset into features and target variable"
   ]
  },
  {
   "cell_type": "code",
   "execution_count": 78,
   "id": "afd8fa5c",
   "metadata": {},
   "outputs": [],
   "source": [
    "X = train_df.drop(columns=['is_anomaly'],inplace=False,axis=1)\n",
    "y = train_df['is_anomaly']"
   ]
  },
  {
   "cell_type": "code",
   "execution_count": 79,
   "id": "16640ae6",
   "metadata": {},
   "outputs": [],
   "source": [
    "# Splitting into training and validation sets\n",
    "X_train, X_val, y_train, y_val = train_test_split(X, y, test_size=0.2, random_state=42)"
   ]
  },
  {
   "cell_type": "code",
   "execution_count": 80,
   "id": "5d54eb6d",
   "metadata": {},
   "outputs": [],
   "source": [
    "# Standardizing the features\n",
    "scaler = StandardScaler()\n",
    "X_train = scaler.fit_transform(X_train)\n",
    "X_val = scaler.transform(X_val)\n",
    "test_dataset = scaler.transform(test_df)"
   ]
  },
  {
   "cell_type": "code",
   "execution_count": 81,
   "id": "4ab0e1c2",
   "metadata": {},
   "outputs": [],
   "source": [
    "# Applying SMOTE to the training data\n",
    "smote = SMOTE(random_state=42)\n",
    "X_train_smote, y_train_smote = smote.fit_resample(X_train, y_train)"
   ]
  },
  {
   "cell_type": "code",
   "execution_count": 82,
   "id": "b1106b1c",
   "metadata": {},
   "outputs": [
    {
     "name": "stdout",
     "output_type": "stream",
     "text": [
      "Original dataset shape: Counter({0: 12057, 1: 607})\n",
      "Resampled dataset shape: Counter({0: 12057, 1: 12057})\n"
     ]
    }
   ],
   "source": [
    "# Before and after resampling\n",
    "print(f\"Original dataset shape: {Counter(y_train)}\")\n",
    "print(f\"Resampled dataset shape: {Counter(y_train_smote)}\")"
   ]
  },
  {
   "cell_type": "markdown",
   "id": "1d4a955a",
   "metadata": {},
   "source": [
    "## Model Evaluation"
   ]
  },
  {
   "cell_type": "code",
   "execution_count": 83,
   "id": "984ae462",
   "metadata": {},
   "outputs": [],
   "source": [
    "# Initializing ML models\n",
    "models = {\n",
    "    \"Logistic Regression\": LogisticRegression(),\n",
    "    \"Decision Tree\": DecisionTreeClassifier(),\n",
    "    \"Random Forest\": RandomForestClassifier(),\n",
    "    \"Gradient Boosting\": GradientBoostingClassifier(),\n",
    "    \"Support Vector Classifier\": SVC(),\n",
    "    \"K-Nearest Neighbors\": KNeighborsClassifier(),\n",
    "    \"XGBoost\": XGBClassifier()\n",
    "}"
   ]
  },
  {
   "cell_type": "code",
   "execution_count": 84,
   "id": "2dfc45ec",
   "metadata": {
    "scrolled": false
   },
   "outputs": [
    {
     "name": "stdout",
     "output_type": "stream",
     "text": [
      "[19:14:21] WARNING: ..\\src\\learner.cc:1115: Starting in XGBoost 1.3.0, the default evaluation metric used with the objective 'binary:logistic' was changed from 'error' to 'logloss'. Explicitly set eval_metric if you'd like to restore the old behavior.\n"
     ]
    }
   ],
   "source": [
    "# Training and evaluating models\n",
    "results = []\n",
    "\n",
    "for name, model in models.items():\n",
    "    model.fit(X_train_smote, y_train_smote)\n",
    "    y_pred = model.predict(X_val)\n",
    "    accuracy = accuracy_score(y_val, y_pred)\n",
    "    precision = precision_score(y_val, y_pred, average='weighted')\n",
    "    recall = recall_score(y_val, y_pred, average='weighted')\n",
    "    f1 = f1_score(y_val, y_pred, average='weighted')\n",
    "    results.append([name, accuracy, precision, recall, f1])"
   ]
  },
  {
   "cell_type": "code",
   "execution_count": 85,
   "id": "4464de45",
   "metadata": {},
   "outputs": [
    {
     "data": {
      "text/html": [
       "<div>\n",
       "<style scoped>\n",
       "    .dataframe tbody tr th:only-of-type {\n",
       "        vertical-align: middle;\n",
       "    }\n",
       "\n",
       "    .dataframe tbody tr th {\n",
       "        vertical-align: top;\n",
       "    }\n",
       "\n",
       "    .dataframe thead th {\n",
       "        text-align: right;\n",
       "    }\n",
       "</style>\n",
       "<table border=\"1\" class=\"dataframe\">\n",
       "  <thead>\n",
       "    <tr style=\"text-align: right;\">\n",
       "      <th></th>\n",
       "      <th>ML Model</th>\n",
       "      <th>Accuracy</th>\n",
       "      <th>Precision</th>\n",
       "      <th>Recall</th>\n",
       "      <th>F1 Score</th>\n",
       "    </tr>\n",
       "  </thead>\n",
       "  <tbody>\n",
       "    <tr>\n",
       "      <th>0</th>\n",
       "      <td>Logistic Regression</td>\n",
       "      <td>0.937145</td>\n",
       "      <td>0.962825</td>\n",
       "      <td>0.937145</td>\n",
       "      <td>0.946037</td>\n",
       "    </tr>\n",
       "    <tr>\n",
       "      <th>1</th>\n",
       "      <td>Decision Tree</td>\n",
       "      <td>0.951674</td>\n",
       "      <td>0.961526</td>\n",
       "      <td>0.951674</td>\n",
       "      <td>0.955489</td>\n",
       "    </tr>\n",
       "    <tr>\n",
       "      <th>2</th>\n",
       "      <td>Random Forest</td>\n",
       "      <td>0.960834</td>\n",
       "      <td>0.968241</td>\n",
       "      <td>0.960834</td>\n",
       "      <td>0.963588</td>\n",
       "    </tr>\n",
       "    <tr>\n",
       "      <th>3</th>\n",
       "      <td>Gradient Boosting</td>\n",
       "      <td>0.939987</td>\n",
       "      <td>0.964565</td>\n",
       "      <td>0.939987</td>\n",
       "      <td>0.948365</td>\n",
       "    </tr>\n",
       "    <tr>\n",
       "      <th>4</th>\n",
       "      <td>Support Vector Classifier</td>\n",
       "      <td>0.942198</td>\n",
       "      <td>0.962481</td>\n",
       "      <td>0.942198</td>\n",
       "      <td>0.949385</td>\n",
       "    </tr>\n",
       "    <tr>\n",
       "      <th>5</th>\n",
       "      <td>K-Nearest Neighbors</td>\n",
       "      <td>0.950411</td>\n",
       "      <td>0.966596</td>\n",
       "      <td>0.950411</td>\n",
       "      <td>0.955998</td>\n",
       "    </tr>\n",
       "    <tr>\n",
       "      <th>6</th>\n",
       "      <td>XGBoost</td>\n",
       "      <td>0.963992</td>\n",
       "      <td>0.970243</td>\n",
       "      <td>0.963992</td>\n",
       "      <td>0.966309</td>\n",
       "    </tr>\n",
       "  </tbody>\n",
       "</table>\n",
       "</div>"
      ],
      "text/plain": [
       "                    ML Model  Accuracy  Precision    Recall  F1 Score\n",
       "0        Logistic Regression  0.937145   0.962825  0.937145  0.946037\n",
       "1              Decision Tree  0.951674   0.961526  0.951674  0.955489\n",
       "2              Random Forest  0.960834   0.968241  0.960834  0.963588\n",
       "3          Gradient Boosting  0.939987   0.964565  0.939987  0.948365\n",
       "4  Support Vector Classifier  0.942198   0.962481  0.942198  0.949385\n",
       "5        K-Nearest Neighbors  0.950411   0.966596  0.950411  0.955998\n",
       "6                    XGBoost  0.963992   0.970243  0.963992  0.966309"
      ]
     },
     "execution_count": 85,
     "metadata": {},
     "output_type": "execute_result"
    }
   ],
   "source": [
    "# Converting results to DataFrame for better display\n",
    "results_df = pd.DataFrame(results, columns=['ML Model', 'Accuracy', 'Precision', 'Recall', 'F1 Score'])\n",
    "results_df"
   ]
  },
  {
   "cell_type": "markdown",
   "id": "c9144e9d",
   "metadata": {},
   "source": [
    "## Making Predictions on Test Data"
   ]
  },
  {
   "cell_type": "code",
   "execution_count": 86,
   "id": "eba72ae0",
   "metadata": {},
   "outputs": [],
   "source": [
    "# Choosing the best model\n",
    "best_model = RandomForestClassifier()\n",
    "best_model.fit(X_train_smote, y_train_smote)\n",
    "\n",
    "predictions = best_model.predict(test_dataset)\n",
    "predictions_bool = predictions == 1\n",
    "\n",
    "# Converting predictions to DataFrame and saving to CSV file\n",
    "submission_df = pd.DataFrame({\n",
    "    'timestamp': test_df['timestamp'],  \n",
    "    'is_anomaly': predictions_bool  \n",
    "})\n",
    "\n",
    "submission_df.to_csv('predicted_data.csv', index=False)"
   ]
  },
  {
   "cell_type": "code",
   "execution_count": 87,
   "id": "4f9aabe5",
   "metadata": {
    "scrolled": false
   },
   "outputs": [
    {
     "data": {
      "text/html": [
       "<div>\n",
       "<style scoped>\n",
       "    .dataframe tbody tr th:only-of-type {\n",
       "        vertical-align: middle;\n",
       "    }\n",
       "\n",
       "    .dataframe tbody tr th {\n",
       "        vertical-align: top;\n",
       "    }\n",
       "\n",
       "    .dataframe thead th {\n",
       "        text-align: right;\n",
       "    }\n",
       "</style>\n",
       "<table border=\"1\" class=\"dataframe\">\n",
       "  <thead>\n",
       "    <tr style=\"text-align: right;\">\n",
       "      <th></th>\n",
       "      <th>timestamp</th>\n",
       "      <th>is_anomaly</th>\n",
       "    </tr>\n",
       "  </thead>\n",
       "  <tbody>\n",
       "    <tr>\n",
       "      <th>0</th>\n",
       "      <td>1396332000</td>\n",
       "      <td>False</td>\n",
       "    </tr>\n",
       "    <tr>\n",
       "      <th>1</th>\n",
       "      <td>1396332300</td>\n",
       "      <td>False</td>\n",
       "    </tr>\n",
       "    <tr>\n",
       "      <th>2</th>\n",
       "      <td>1396332600</td>\n",
       "      <td>False</td>\n",
       "    </tr>\n",
       "    <tr>\n",
       "      <th>3</th>\n",
       "      <td>1396332900</td>\n",
       "      <td>False</td>\n",
       "    </tr>\n",
       "    <tr>\n",
       "      <th>4</th>\n",
       "      <td>1396333200</td>\n",
       "      <td>False</td>\n",
       "    </tr>\n",
       "    <tr>\n",
       "      <th>...</th>\n",
       "      <td>...</td>\n",
       "      <td>...</td>\n",
       "    </tr>\n",
       "    <tr>\n",
       "      <th>3955</th>\n",
       "      <td>1397518500</td>\n",
       "      <td>False</td>\n",
       "    </tr>\n",
       "    <tr>\n",
       "      <th>3956</th>\n",
       "      <td>1397518800</td>\n",
       "      <td>False</td>\n",
       "    </tr>\n",
       "    <tr>\n",
       "      <th>3957</th>\n",
       "      <td>1397519100</td>\n",
       "      <td>False</td>\n",
       "    </tr>\n",
       "    <tr>\n",
       "      <th>3958</th>\n",
       "      <td>1397519400</td>\n",
       "      <td>False</td>\n",
       "    </tr>\n",
       "    <tr>\n",
       "      <th>3959</th>\n",
       "      <td>1397519700</td>\n",
       "      <td>False</td>\n",
       "    </tr>\n",
       "  </tbody>\n",
       "</table>\n",
       "<p>3960 rows × 2 columns</p>\n",
       "</div>"
      ],
      "text/plain": [
       "       timestamp  is_anomaly\n",
       "0     1396332000       False\n",
       "1     1396332300       False\n",
       "2     1396332600       False\n",
       "3     1396332900       False\n",
       "4     1396333200       False\n",
       "...          ...         ...\n",
       "3955  1397518500       False\n",
       "3956  1397518800       False\n",
       "3957  1397519100       False\n",
       "3958  1397519400       False\n",
       "3959  1397519700       False\n",
       "\n",
       "[3960 rows x 2 columns]"
      ]
     },
     "execution_count": 87,
     "metadata": {},
     "output_type": "execute_result"
    }
   ],
   "source": [
    "submission_df"
   ]
  },
  {
   "cell_type": "code",
   "execution_count": 88,
   "id": "e878660d",
   "metadata": {
    "scrolled": true
   },
   "outputs": [
    {
     "name": "stdout",
     "output_type": "stream",
     "text": [
      "Number of True values: 26\n",
      "Number of False values: 3934\n"
     ]
    }
   ],
   "source": [
    "true_count = submission_df['is_anomaly'].value_counts()[True]\n",
    "false_count = submission_df['is_anomaly'].value_counts()[False]\n",
    "\n",
    "# Printing the number of True and False values in the is_anomaly column\n",
    "print(f\"Number of True values: {true_count}\")\n",
    "print(f\"Number of False values: {false_count}\")"
   ]
  }
 ],
 "metadata": {
  "kernelspec": {
   "display_name": "Python 3 (ipykernel)",
   "language": "python",
   "name": "python3"
  },
  "language_info": {
   "codemirror_mode": {
    "name": "ipython",
    "version": 3
   },
   "file_extension": ".py",
   "mimetype": "text/x-python",
   "name": "python",
   "nbconvert_exporter": "python",
   "pygments_lexer": "ipython3",
   "version": "3.9.13"
  }
 },
 "nbformat": 4,
 "nbformat_minor": 5
}
