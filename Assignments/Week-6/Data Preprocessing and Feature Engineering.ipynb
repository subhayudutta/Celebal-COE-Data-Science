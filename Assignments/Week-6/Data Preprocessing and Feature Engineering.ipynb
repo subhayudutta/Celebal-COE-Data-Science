{
 "cells": [
  {
   "cell_type": "markdown",
   "id": "838307e2",
   "metadata": {},
   "source": [
    "## Data Preprocessing and Feature Engineering\n",
    "\n",
    "This notebook contains code for data preprocessing, feature engineering, and outlier detection and removal. The analysis utilizes several Python libraries, including numpy, pandas, matplotlib, and seaborn.\n",
    "\n",
    "### Titanic Dataset\n",
    "\n",
    "- Train Dataset: [Download Link](https://drive.google.com/file/d/1KzCzB54QCgKsfBi2T7yu1EopDR1wIolK/view?source=post_page-----d6bc219b6b93--------------------------------)\n",
    "\n",
    "- Test Dataset: [Download Link](https://drive.google.com/file/d/1QPRuOmzwigrmCjoR1WYFU2i1ifps12Gt/view?source=post_page-----d6bc219b6b93--------------------------------)"
   ]
  },
  {
   "cell_type": "code",
   "execution_count": 1,
   "id": "f4d81de4",
   "metadata": {},
   "outputs": [],
   "source": [
    "# Importing necessary libraries\n",
    "import numpy as np\n",
    "import pandas as pd\n",
    "import seaborn as sns\n",
    "import matplotlib.pyplot as plt\n",
    "from sklearn.neighbors import LocalOutlierFactor"
   ]
  },
  {
   "cell_type": "code",
   "execution_count": 2,
   "id": "3736bd2d",
   "metadata": {},
   "outputs": [],
   "source": [
    "train_df = pd.read_csv('application_train.csv')\n",
    "test_df = pd.read_csv('titanic.csv')"
   ]
  },
  {
   "cell_type": "code",
   "execution_count": 6,
   "id": "99852280",
   "metadata": {
    "scrolled": true
   },
   "outputs": [
    {
     "data": {
      "text/html": [
       "<div>\n",
       "<style scoped>\n",
       "    .dataframe tbody tr th:only-of-type {\n",
       "        vertical-align: middle;\n",
       "    }\n",
       "\n",
       "    .dataframe tbody tr th {\n",
       "        vertical-align: top;\n",
       "    }\n",
       "\n",
       "    .dataframe thead th {\n",
       "        text-align: right;\n",
       "    }\n",
       "</style>\n",
       "<table border=\"1\" class=\"dataframe\">\n",
       "  <thead>\n",
       "    <tr style=\"text-align: right;\">\n",
       "      <th></th>\n",
       "      <th>SK_ID_CURR</th>\n",
       "      <th>TARGET</th>\n",
       "      <th>NAME_CONTRACT_TYPE</th>\n",
       "      <th>CODE_GENDER</th>\n",
       "      <th>FLAG_OWN_CAR</th>\n",
       "      <th>FLAG_OWN_REALTY</th>\n",
       "      <th>CNT_CHILDREN</th>\n",
       "      <th>AMT_INCOME_TOTAL</th>\n",
       "      <th>AMT_CREDIT</th>\n",
       "      <th>AMT_ANNUITY</th>\n",
       "      <th>...</th>\n",
       "      <th>FLAG_DOCUMENT_18</th>\n",
       "      <th>FLAG_DOCUMENT_19</th>\n",
       "      <th>FLAG_DOCUMENT_20</th>\n",
       "      <th>FLAG_DOCUMENT_21</th>\n",
       "      <th>AMT_REQ_CREDIT_BUREAU_HOUR</th>\n",
       "      <th>AMT_REQ_CREDIT_BUREAU_DAY</th>\n",
       "      <th>AMT_REQ_CREDIT_BUREAU_WEEK</th>\n",
       "      <th>AMT_REQ_CREDIT_BUREAU_MON</th>\n",
       "      <th>AMT_REQ_CREDIT_BUREAU_QRT</th>\n",
       "      <th>AMT_REQ_CREDIT_BUREAU_YEAR</th>\n",
       "    </tr>\n",
       "  </thead>\n",
       "  <tbody>\n",
       "    <tr>\n",
       "      <th>0</th>\n",
       "      <td>100002</td>\n",
       "      <td>1</td>\n",
       "      <td>Cash loans</td>\n",
       "      <td>M</td>\n",
       "      <td>N</td>\n",
       "      <td>Y</td>\n",
       "      <td>0</td>\n",
       "      <td>202500.0</td>\n",
       "      <td>406597.5</td>\n",
       "      <td>24700.5</td>\n",
       "      <td>...</td>\n",
       "      <td>0</td>\n",
       "      <td>0</td>\n",
       "      <td>0</td>\n",
       "      <td>0</td>\n",
       "      <td>0.0</td>\n",
       "      <td>0.0</td>\n",
       "      <td>0.0</td>\n",
       "      <td>0.0</td>\n",
       "      <td>0.0</td>\n",
       "      <td>1.0</td>\n",
       "    </tr>\n",
       "    <tr>\n",
       "      <th>1</th>\n",
       "      <td>100003</td>\n",
       "      <td>0</td>\n",
       "      <td>Cash loans</td>\n",
       "      <td>F</td>\n",
       "      <td>N</td>\n",
       "      <td>N</td>\n",
       "      <td>0</td>\n",
       "      <td>270000.0</td>\n",
       "      <td>1293502.5</td>\n",
       "      <td>35698.5</td>\n",
       "      <td>...</td>\n",
       "      <td>0</td>\n",
       "      <td>0</td>\n",
       "      <td>0</td>\n",
       "      <td>0</td>\n",
       "      <td>0.0</td>\n",
       "      <td>0.0</td>\n",
       "      <td>0.0</td>\n",
       "      <td>0.0</td>\n",
       "      <td>0.0</td>\n",
       "      <td>0.0</td>\n",
       "    </tr>\n",
       "    <tr>\n",
       "      <th>2</th>\n",
       "      <td>100004</td>\n",
       "      <td>0</td>\n",
       "      <td>Revolving loans</td>\n",
       "      <td>M</td>\n",
       "      <td>Y</td>\n",
       "      <td>Y</td>\n",
       "      <td>0</td>\n",
       "      <td>67500.0</td>\n",
       "      <td>135000.0</td>\n",
       "      <td>6750.0</td>\n",
       "      <td>...</td>\n",
       "      <td>0</td>\n",
       "      <td>0</td>\n",
       "      <td>0</td>\n",
       "      <td>0</td>\n",
       "      <td>0.0</td>\n",
       "      <td>0.0</td>\n",
       "      <td>0.0</td>\n",
       "      <td>0.0</td>\n",
       "      <td>0.0</td>\n",
       "      <td>0.0</td>\n",
       "    </tr>\n",
       "    <tr>\n",
       "      <th>3</th>\n",
       "      <td>100006</td>\n",
       "      <td>0</td>\n",
       "      <td>Cash loans</td>\n",
       "      <td>F</td>\n",
       "      <td>N</td>\n",
       "      <td>Y</td>\n",
       "      <td>0</td>\n",
       "      <td>135000.0</td>\n",
       "      <td>312682.5</td>\n",
       "      <td>29686.5</td>\n",
       "      <td>...</td>\n",
       "      <td>0</td>\n",
       "      <td>0</td>\n",
       "      <td>0</td>\n",
       "      <td>0</td>\n",
       "      <td>NaN</td>\n",
       "      <td>NaN</td>\n",
       "      <td>NaN</td>\n",
       "      <td>NaN</td>\n",
       "      <td>NaN</td>\n",
       "      <td>NaN</td>\n",
       "    </tr>\n",
       "    <tr>\n",
       "      <th>4</th>\n",
       "      <td>100007</td>\n",
       "      <td>0</td>\n",
       "      <td>Cash loans</td>\n",
       "      <td>M</td>\n",
       "      <td>N</td>\n",
       "      <td>Y</td>\n",
       "      <td>0</td>\n",
       "      <td>121500.0</td>\n",
       "      <td>513000.0</td>\n",
       "      <td>21865.5</td>\n",
       "      <td>...</td>\n",
       "      <td>0</td>\n",
       "      <td>0</td>\n",
       "      <td>0</td>\n",
       "      <td>0</td>\n",
       "      <td>0.0</td>\n",
       "      <td>0.0</td>\n",
       "      <td>0.0</td>\n",
       "      <td>0.0</td>\n",
       "      <td>0.0</td>\n",
       "      <td>0.0</td>\n",
       "    </tr>\n",
       "  </tbody>\n",
       "</table>\n",
       "<p>5 rows × 122 columns</p>\n",
       "</div>"
      ],
      "text/plain": [
       "   SK_ID_CURR  TARGET NAME_CONTRACT_TYPE CODE_GENDER FLAG_OWN_CAR  \\\n",
       "0      100002       1         Cash loans           M            N   \n",
       "1      100003       0         Cash loans           F            N   \n",
       "2      100004       0    Revolving loans           M            Y   \n",
       "3      100006       0         Cash loans           F            N   \n",
       "4      100007       0         Cash loans           M            N   \n",
       "\n",
       "  FLAG_OWN_REALTY  CNT_CHILDREN  AMT_INCOME_TOTAL  AMT_CREDIT  AMT_ANNUITY  \\\n",
       "0               Y             0          202500.0    406597.5      24700.5   \n",
       "1               N             0          270000.0   1293502.5      35698.5   \n",
       "2               Y             0           67500.0    135000.0       6750.0   \n",
       "3               Y             0          135000.0    312682.5      29686.5   \n",
       "4               Y             0          121500.0    513000.0      21865.5   \n",
       "\n",
       "   ...  FLAG_DOCUMENT_18 FLAG_DOCUMENT_19 FLAG_DOCUMENT_20 FLAG_DOCUMENT_21  \\\n",
       "0  ...                 0                0                0                0   \n",
       "1  ...                 0                0                0                0   \n",
       "2  ...                 0                0                0                0   \n",
       "3  ...                 0                0                0                0   \n",
       "4  ...                 0                0                0                0   \n",
       "\n",
       "  AMT_REQ_CREDIT_BUREAU_HOUR AMT_REQ_CREDIT_BUREAU_DAY  \\\n",
       "0                        0.0                       0.0   \n",
       "1                        0.0                       0.0   \n",
       "2                        0.0                       0.0   \n",
       "3                        NaN                       NaN   \n",
       "4                        0.0                       0.0   \n",
       "\n",
       "   AMT_REQ_CREDIT_BUREAU_WEEK  AMT_REQ_CREDIT_BUREAU_MON  \\\n",
       "0                         0.0                        0.0   \n",
       "1                         0.0                        0.0   \n",
       "2                         0.0                        0.0   \n",
       "3                         NaN                        NaN   \n",
       "4                         0.0                        0.0   \n",
       "\n",
       "   AMT_REQ_CREDIT_BUREAU_QRT  AMT_REQ_CREDIT_BUREAU_YEAR  \n",
       "0                        0.0                         1.0  \n",
       "1                        0.0                         0.0  \n",
       "2                        0.0                         0.0  \n",
       "3                        NaN                         NaN  \n",
       "4                        0.0                         0.0  \n",
       "\n",
       "[5 rows x 122 columns]"
      ]
     },
     "execution_count": 6,
     "metadata": {},
     "output_type": "execute_result"
    }
   ],
   "source": [
    "train_df.head()"
   ]
  },
  {
   "cell_type": "code",
   "execution_count": 7,
   "id": "0cb8eb7b",
   "metadata": {},
   "outputs": [
    {
     "data": {
      "text/html": [
       "<div>\n",
       "<style scoped>\n",
       "    .dataframe tbody tr th:only-of-type {\n",
       "        vertical-align: middle;\n",
       "    }\n",
       "\n",
       "    .dataframe tbody tr th {\n",
       "        vertical-align: top;\n",
       "    }\n",
       "\n",
       "    .dataframe thead th {\n",
       "        text-align: right;\n",
       "    }\n",
       "</style>\n",
       "<table border=\"1\" class=\"dataframe\">\n",
       "  <thead>\n",
       "    <tr style=\"text-align: right;\">\n",
       "      <th></th>\n",
       "      <th>PassengerId</th>\n",
       "      <th>Survived</th>\n",
       "      <th>Pclass</th>\n",
       "      <th>Name</th>\n",
       "      <th>Sex</th>\n",
       "      <th>Age</th>\n",
       "      <th>SibSp</th>\n",
       "      <th>Parch</th>\n",
       "      <th>Ticket</th>\n",
       "      <th>Fare</th>\n",
       "      <th>Cabin</th>\n",
       "      <th>Embarked</th>\n",
       "    </tr>\n",
       "  </thead>\n",
       "  <tbody>\n",
       "    <tr>\n",
       "      <th>0</th>\n",
       "      <td>1</td>\n",
       "      <td>0</td>\n",
       "      <td>3</td>\n",
       "      <td>Braund, Mr. Owen Harris</td>\n",
       "      <td>male</td>\n",
       "      <td>22.0</td>\n",
       "      <td>1</td>\n",
       "      <td>0</td>\n",
       "      <td>A/5 21171</td>\n",
       "      <td>7.2500</td>\n",
       "      <td>NaN</td>\n",
       "      <td>S</td>\n",
       "    </tr>\n",
       "    <tr>\n",
       "      <th>1</th>\n",
       "      <td>2</td>\n",
       "      <td>1</td>\n",
       "      <td>1</td>\n",
       "      <td>Cumings, Mrs. John Bradley (Florence Briggs Th...</td>\n",
       "      <td>female</td>\n",
       "      <td>38.0</td>\n",
       "      <td>1</td>\n",
       "      <td>0</td>\n",
       "      <td>PC 17599</td>\n",
       "      <td>71.2833</td>\n",
       "      <td>C85</td>\n",
       "      <td>C</td>\n",
       "    </tr>\n",
       "    <tr>\n",
       "      <th>2</th>\n",
       "      <td>3</td>\n",
       "      <td>1</td>\n",
       "      <td>3</td>\n",
       "      <td>Heikkinen, Miss. Laina</td>\n",
       "      <td>female</td>\n",
       "      <td>26.0</td>\n",
       "      <td>0</td>\n",
       "      <td>0</td>\n",
       "      <td>STON/O2. 3101282</td>\n",
       "      <td>7.9250</td>\n",
       "      <td>NaN</td>\n",
       "      <td>S</td>\n",
       "    </tr>\n",
       "    <tr>\n",
       "      <th>3</th>\n",
       "      <td>4</td>\n",
       "      <td>1</td>\n",
       "      <td>1</td>\n",
       "      <td>Futrelle, Mrs. Jacques Heath (Lily May Peel)</td>\n",
       "      <td>female</td>\n",
       "      <td>35.0</td>\n",
       "      <td>1</td>\n",
       "      <td>0</td>\n",
       "      <td>113803</td>\n",
       "      <td>53.1000</td>\n",
       "      <td>C123</td>\n",
       "      <td>S</td>\n",
       "    </tr>\n",
       "    <tr>\n",
       "      <th>4</th>\n",
       "      <td>5</td>\n",
       "      <td>0</td>\n",
       "      <td>3</td>\n",
       "      <td>Allen, Mr. William Henry</td>\n",
       "      <td>male</td>\n",
       "      <td>35.0</td>\n",
       "      <td>0</td>\n",
       "      <td>0</td>\n",
       "      <td>373450</td>\n",
       "      <td>8.0500</td>\n",
       "      <td>NaN</td>\n",
       "      <td>S</td>\n",
       "    </tr>\n",
       "  </tbody>\n",
       "</table>\n",
       "</div>"
      ],
      "text/plain": [
       "   PassengerId  Survived  Pclass  \\\n",
       "0            1         0       3   \n",
       "1            2         1       1   \n",
       "2            3         1       3   \n",
       "3            4         1       1   \n",
       "4            5         0       3   \n",
       "\n",
       "                                                Name     Sex   Age  SibSp  \\\n",
       "0                            Braund, Mr. Owen Harris    male  22.0      1   \n",
       "1  Cumings, Mrs. John Bradley (Florence Briggs Th...  female  38.0      1   \n",
       "2                             Heikkinen, Miss. Laina  female  26.0      0   \n",
       "3       Futrelle, Mrs. Jacques Heath (Lily May Peel)  female  35.0      1   \n",
       "4                           Allen, Mr. William Henry    male  35.0      0   \n",
       "\n",
       "   Parch            Ticket     Fare Cabin Embarked  \n",
       "0      0         A/5 21171   7.2500   NaN        S  \n",
       "1      0          PC 17599  71.2833   C85        C  \n",
       "2      0  STON/O2. 3101282   7.9250   NaN        S  \n",
       "3      0            113803  53.1000  C123        S  \n",
       "4      0            373450   8.0500   NaN        S  "
      ]
     },
     "execution_count": 7,
     "metadata": {},
     "output_type": "execute_result"
    }
   ],
   "source": [
    "test_df.head()"
   ]
  },
  {
   "cell_type": "code",
   "execution_count": 4,
   "id": "40378c20",
   "metadata": {},
   "outputs": [
    {
     "data": {
      "text/plain": [
       "(307511, 122)"
      ]
     },
     "execution_count": 4,
     "metadata": {},
     "output_type": "execute_result"
    }
   ],
   "source": [
    "train_df.shape"
   ]
  },
  {
   "cell_type": "code",
   "execution_count": 5,
   "id": "5b1a5e16",
   "metadata": {},
   "outputs": [
    {
     "data": {
      "text/plain": [
       "(891, 12)"
      ]
     },
     "execution_count": 5,
     "metadata": {},
     "output_type": "execute_result"
    }
   ],
   "source": [
    "test_df.shape"
   ]
  },
  {
   "cell_type": "code",
   "execution_count": 14,
   "id": "1af0d5cf",
   "metadata": {},
   "outputs": [
    {
     "data": {
      "image/png": "[encoded data removed]",
      "text/plain": [
       "<Figure size 640x480 with 1 Axes>"
      ]
     },
     "metadata": {},
     "output_type": "display_data"
    }
   ],
   "source": [
    "# Visualizing outliers in the numerical 'Age' column using a boxplot\n",
    "# The resulting plot will show any outliers in the 'Age' column\n",
    "sns.boxplot(x=test_df[\"Age\"])\n",
    "plt.show() "
   ]
  },
  {
   "cell_type": "code",
   "execution_count": 15,
   "id": "840d4c37",
   "metadata": {},
   "outputs": [
    {
     "name": "stdout",
     "output_type": "stream",
     "text": [
      "     PassengerId  Survived  Pclass                                  Name  \\\n",
      "33            34         0       2                 Wheadon, Mr. Edward H   \n",
      "54            55         0       1        Ostby, Mr. Engelhart Cornelius   \n",
      "96            97         0       1             Goldschmidt, Mr. George B   \n",
      "116          117         0       3                  Connors, Mr. Patrick   \n",
      "280          281         0       3                      Duane, Mr. Frank   \n",
      "456          457         0       1             Millet, Mr. Francis Davis   \n",
      "493          494         0       1               Artagaveytia, Mr. Ramon   \n",
      "630          631         1       1  Barkworth, Mr. Algernon Henry Wilson   \n",
      "672          673         0       2           Mitchell, Mr. Henry Michael   \n",
      "745          746         0       1          Crosby, Capt. Edward Gifford   \n",
      "851          852         0       3                   Svensson, Mr. Johan   \n",
      "\n",
      "      Sex   Age  SibSp  Parch      Ticket     Fare Cabin Embarked  \n",
      "33   male  66.0      0      0  C.A. 24579  10.5000   NaN        S  \n",
      "54   male  65.0      0      1      113509  61.9792   B30        C  \n",
      "96   male  71.0      0      0    PC 17754  34.6542    A5        C  \n",
      "116  male  70.5      0      0      370369   7.7500   NaN        Q  \n",
      "280  male  65.0      0      0      336439   7.7500   NaN        Q  \n",
      "456  male  65.0      0      0       13509  26.5500   E38        S  \n",
      "493  male  71.0      0      0    PC 17609  49.5042   NaN        C  \n",
      "630  male  80.0      0      0       27042  30.0000   A23        S  \n",
      "672  male  70.0      0      0  C.A. 24580  10.5000   NaN        S  \n",
      "745  male  70.0      1      1   WE/P 5735  71.0000   B22        S  \n",
      "851  male  74.0      0      0      347060   7.7750   NaN        S  \n"
     ]
    }
   ],
   "source": [
    "# Calculating the first quartile (Q1), third quartile (Q3), and interquartile range (IQR) to find outliers\n",
    "q1 = test_df[\"Age\"].quantile(0.25)\n",
    "q3 = test_df[\"Age\"].quantile(0.75)\n",
    "iqr = q3 - q1\n",
    "\n",
    "# Determining the upper and lower bounds for outlier detection\n",
    "upper_bound = q3 + 1.5 * iqr\n",
    "lower_bound = q1 - 1.5 * iqr\n",
    "\n",
    "# Identifying outliers outside the determined bounds\n",
    "print(test_df[(test_df[\"Age\"] < lower_bound) | (test_df[\"Age\"] > upper_bound)])"
   ]
  },
  {
   "cell_type": "code",
   "execution_count": 17,
   "id": "428438dd",
   "metadata": {},
   "outputs": [
    {
     "name": "stdout",
     "output_type": "stream",
     "text": [
      "Index of outliers: Int64Index([33, 54, 96, 116, 280, 456, 493, 630, 672, 745, 851], dtype='int64')\n"
     ]
    }
   ],
   "source": [
    "# Printing the index of outliers\n",
    "print(\"Index of outliers:\", test_df[(test_df[\"Age\"] < lower_bound) | (test_df[\"Age\"] > upper_bound)].index)"
   ]
  },
  {
   "cell_type": "code",
   "execution_count": 18,
   "id": "7598f9ef",
   "metadata": {},
   "outputs": [
    {
     "name": "stdout",
     "output_type": "stream",
     "text": [
      "Are there any outliers? True\n"
     ]
    }
   ],
   "source": [
    "# Checking if there are any outliers\n",
    "print(\"Are there any outliers?\", test_df[(test_df[\"Age\"] < lower_bound) | (test_df[\"Age\"] > upper_bound)].any(axis=None))  # True"
   ]
  },
  {
   "cell_type": "code",
   "execution_count": 20,
   "id": "686dd790",
   "metadata": {},
   "outputs": [
    {
     "name": "stdout",
     "output_type": "stream",
     "text": [
      "Are there any outliers below the threshold? False\n"
     ]
    }
   ],
   "source": [
    "print(\"Are there any outliers below the threshold?\", test_df[(test_df[\"Age\"] < lower_bound)].any(axis=None))  # False"
   ]
  },
  {
   "cell_type": "markdown",
   "id": "f65ae06a",
   "metadata": {},
   "source": [
    "## Generalized function"
   ]
  },
  {
   "cell_type": "code",
   "execution_count": 21,
   "id": "220a8ba3",
   "metadata": {},
   "outputs": [
    {
     "name": "stdout",
     "output_type": "stream",
     "text": [
      "Outlier thresholds for Age: (-6.6875, 64.8125)\n"
     ]
    }
   ],
   "source": [
    "def outlier_thresholds(train_df, col_name, q1=0.25, q3=0.75):\n",
    "    # Calculating quartiles and interquartile range\n",
    "    quartile1 = train_df[col_name].quantile(q1)\n",
    "    quartile3 = train_df[col_name].quantile(q3)\n",
    "    interquartile_range = quartile3 - quartile1\n",
    "    \n",
    "    # Determining upper and lower limits for outlier detection\n",
    "    upper_limit = quartile3 + 1.5 * interquartile_range\n",
    "    lower_limit = quartile1 - 1.5 * interquartile_range\n",
    "    \n",
    "    # Age cannot be lower than 0, so we don't need to consider the lower limit\n",
    "    \n",
    "    return lower_limit, upper_limit\n",
    "\n",
    "# Finding outlier thresholds for the 'Age' column\n",
    "print(\"Outlier thresholds for Age:\", outlier_thresholds(test_df, \"Age\"))  # (-6.6875, 64.8125)"
   ]
  },
  {
   "cell_type": "code",
   "execution_count": 22,
   "id": "7cc9b56c",
   "metadata": {},
   "outputs": [
    {
     "name": "stdout",
     "output_type": "stream",
     "text": [
      "Outliers in 'Fare' column:\n",
      "    PassengerId  Survived  Pclass  \\\n",
      "1             2         1       1   \n",
      "27           28         0       1   \n",
      "31           32         1       1   \n",
      "34           35         0       1   \n",
      "52           53         1       1   \n",
      "\n",
      "                                                 Name     Sex   Age  SibSp  \\\n",
      "1   Cumings, Mrs. John Bradley (Florence Briggs Th...  female  38.0      1   \n",
      "27                     Fortune, Mr. Charles Alexander    male  19.0      3   \n",
      "31     Spencer, Mrs. William Augustus (Marie Eugenie)  female   NaN      1   \n",
      "34                            Meyer, Mr. Edgar Joseph    male  28.0      1   \n",
      "52           Harper, Mrs. Henry Sleeper (Myna Haxtun)  female  49.0      1   \n",
      "\n",
      "    Parch    Ticket      Fare        Cabin Embarked  \n",
      "1       0  PC 17599   71.2833          C85        C  \n",
      "27      2     19950  263.0000  C23 C25 C27        S  \n",
      "31      0  PC 17569  146.5208          B78        C  \n",
      "34      0  PC 17604   82.1708          NaN        C  \n",
      "52      0  PC 17572   76.7292          D33        C  \n"
     ]
    }
   ],
   "source": [
    "# Finding and displaying outliers for the 'Fare' column\n",
    "low, up = outlier_thresholds(test_df, \"Fare\")\n",
    "print(\"Outliers in 'Fare' column:\")\n",
    "print(test_df[(test_df[\"Fare\"] < low) | (test_df[\"Fare\"] > up)].head())"
   ]
  },
  {
   "cell_type": "code",
   "execution_count": 24,
   "id": "45866cdf",
   "metadata": {},
   "outputs": [
    {
     "name": "stdout",
     "output_type": "stream",
     "text": [
      "Are there any outliers in 'Age'? True\n",
      "Are there any outliers in 'Fare'? True\n"
     ]
    }
   ],
   "source": [
    "# Function to check if there are any outliers in a column\n",
    "def check_outlier(train_df, col_name):\n",
    "    low_limit, up_limit = outlier_thresholds(train_df, col_name)\n",
    "    # Checking if there are any values outside the determined thresholds\n",
    "    if train_df[(train_df[col_name] > up_limit) | (train_df[col_name] < low_limit)].any(axis=None):\n",
    "        return True\n",
    "    else:\n",
    "        return False\n",
    "\n",
    "# Checking for outliers in the 'Age' and 'Fare' columns\n",
    "print(\"Are there any outliers in 'Age'?\", check_outlier(test_df, \"Age\"))   \n",
    "print(\"Are there any outliers in 'Fare'?\", check_outlier(test_df, \"Fare\"))  "
   ]
  },
  {
   "cell_type": "code",
   "execution_count": 26,
   "id": "54027095",
   "metadata": {},
   "outputs": [
    {
     "name": "stdout",
     "output_type": "stream",
     "text": [
      "Observations: 891\n",
      "Variables: 12\n",
      "Categorical columns: 6\n",
      "Numerical columns: 3\n",
      "Categorical columns with high cardinality: 3\n",
      "Numerical columns that behave like categorical: 4\n"
     ]
    }
   ],
   "source": [
    "# We'll now proceed to extract categorical columns, categorical columns with high cardinality, and numerical columns.\n",
    "def grab_col_names(dataframe, cat_threshold=10, cardinality_threshold=20):\n",
    "    cat_cols = [col for col in dataframe.columns if dataframe[col].dtype == \"O\"]\n",
    "    num_but_cat = [col for col in dataframe.columns if dataframe[col].nunique() < cat_threshold and dataframe[col].dtype != \"O\"]\n",
    "    cat_but_car = [col for col in dataframe.columns if dataframe[col].nunique() > cardinality_threshold and dataframe[col].dtype == \"O\"]\n",
    "    cat_cols = cat_cols + num_but_cat\n",
    "    cat_cols = [col for col in cat_cols if col not in cat_but_car]\n",
    "    num_cols = [col for col in dataframe.columns if dataframe[col].dtype != \"O\" and col not in num_but_cat]\n",
    "\n",
    "    print(f\"Observations: {dataframe.shape[0]}\")\n",
    "    print(f\"Variables: {dataframe.shape[1]}\")\n",
    "    print(f\"Categorical columns: {len(cat_cols)}\")\n",
    "    print(f\"Numerical columns: {len(num_cols)}\")\n",
    "    print(f\"Categorical columns with high cardinality: {len(cat_but_car)}\")\n",
    "    print(f\"Numerical columns that behave like categorical: {len(num_but_cat)}\")\n",
    "\n",
    "    return cat_cols, num_cols, cat_but_car\n",
    "\n",
    "cat_cols, num_cols, cat_but_car = grab_col_names(test_df)"
   ]
  },
  {
   "cell_type": "markdown",
   "id": "a45da32d",
   "metadata": {},
   "source": [
    "## Removing Outliers"
   ]
  },
  {
   "cell_type": "code",
   "execution_count": 27,
   "id": "3c3bdd0e",
   "metadata": {},
   "outputs": [
    {
     "name": "stdout",
     "output_type": "stream",
     "text": [
      "Number of Fare outlier entries: 116\n"
     ]
    }
   ],
   "source": [
    "low, up = outlier_thresholds(test_df, \"Fare\")\n",
    "filt = (test_df[\"Fare\"] < low) | (test_df[\"Fare\"] > up)\n",
    "print(\"Number of Fare outlier entries:\", test_df.shape[0] - test_df[~filt].shape[0])"
   ]
  },
  {
   "cell_type": "code",
   "execution_count": null,
   "id": "cf9db53b",
   "metadata": {},
   "outputs": [],
   "source": [
    "## Generalized function for removing outliers"
   ]
  },
  {
   "cell_type": "code",
   "execution_count": 28,
   "id": "3584b132",
   "metadata": {},
   "outputs": [
    {
     "name": "stdout",
     "output_type": "stream",
     "text": [
      "Observations: 891\n",
      "Variables: 12\n",
      "Categorical columns: 6\n",
      "Numerical columns: 3\n",
      "Categorical columns with high cardinality: 3\n",
      "Numerical columns that behave like categorical: 4\n"
     ]
    }
   ],
   "source": [
    "# Defining a function to remove outliers from a specific column in a DataFrame\n",
    "def remove_outlier(dataframe, col_name):\n",
    "    low_limit, up_limit = outlier_thresholds(dataframe, col_name)\n",
    "    df_without_outliers = dataframe[~((dataframe[col_name] < low_limit) | (dataframe[col_name] > up_limit))]\n",
    "    return df_without_outliers\n",
    "\n",
    "cat_cols, num_cols, cat_but_car = grab_col_names(test_df)"
   ]
  },
  {
   "cell_type": "code",
   "execution_count": null,
   "id": "e20de954",
   "metadata": {},
   "outputs": [],
   "source": [
    "cat_cols, num_cols, cat_but_car = grab_col_names(df)"
   ]
  },
  {
   "cell_type": "markdown",
   "id": "ef3f6b10",
   "metadata": {},
   "source": [
    "## Replacing the outliers with thresholds"
   ]
  },
  {
   "cell_type": "code",
   "execution_count": 33,
   "id": "61e1dbd4",
   "metadata": {},
   "outputs": [
    {
     "name": "stdout",
     "output_type": "stream",
     "text": [
      "Observations: 891\n",
      "Variables: 12\n",
      "Categorical columns: 6\n",
      "Numerical columns: 3\n",
      "Categorical columns with high cardinality: 3\n",
      "Numerical columns that behave like categorical: 4\n"
     ]
    }
   ],
   "source": [
    "# Defining a function to replace outliers with their respective thresholds\n",
    "def replace_with_thresholds(dataframe, variable):\n",
    "    low_limit, up_limit = outlier_thresholds(dataframe, variable)\n",
    "    dataframe.loc[(dataframe[variable] < low_limit), variable] = low_limit\n",
    "    dataframe.loc[(dataframe[variable] > up_limit), variable] = up_limit\n",
    "\n",
    "df = test_df\n",
    "cat_cols, num_cols, cat_but_car = grab_col_names(df)\n",
    "num_cols.remove('PassengerId')"
   ]
  },
  {
   "cell_type": "code",
   "execution_count": 34,
   "id": "23510ff1",
   "metadata": {},
   "outputs": [
    {
     "name": "stdout",
     "output_type": "stream",
     "text": [
      "Age True\n",
      "Fare True\n"
     ]
    }
   ],
   "source": [
    "# Checking which column has outlier\n",
    "for col in num_cols:\n",
    "    print(col, check_outlier(df, col))"
   ]
  },
  {
   "cell_type": "code",
   "execution_count": 35,
   "id": "bdf1836f",
   "metadata": {},
   "outputs": [
    {
     "name": "stdout",
     "output_type": "stream",
     "text": [
      "Age False\n",
      "Fare False\n"
     ]
    }
   ],
   "source": [
    "# Replacing these outliers with thresholds.\n",
    "for col in num_cols:\n",
    "    replace_with_thresholds(df, col)\n",
    "# After performing the replacement, there should be no outliers remaining in the dataset.\n",
    "for col in num_cols:\n",
    "    print(col, check_outlier(df, col))"
   ]
  },
  {
   "cell_type": "markdown",
   "id": "139a4b74",
   "metadata": {},
   "source": [
    "## Local Outlier Factor (LOF)"
   ]
  },
  {
   "cell_type": "code",
   "execution_count": 36,
   "id": "93f8186d",
   "metadata": {},
   "outputs": [
    {
     "name": "stdout",
     "output_type": "stream",
     "text": [
      "Shape of the dataset: (53940, 10)\n"
     ]
    },
    {
     "data": {
      "text/html": [
       "<div>\n",
       "<style scoped>\n",
       "    .dataframe tbody tr th:only-of-type {\n",
       "        vertical-align: middle;\n",
       "    }\n",
       "\n",
       "    .dataframe tbody tr th {\n",
       "        vertical-align: top;\n",
       "    }\n",
       "\n",
       "    .dataframe thead th {\n",
       "        text-align: right;\n",
       "    }\n",
       "</style>\n",
       "<table border=\"1\" class=\"dataframe\">\n",
       "  <thead>\n",
       "    <tr style=\"text-align: right;\">\n",
       "      <th></th>\n",
       "      <th>carat</th>\n",
       "      <th>cut</th>\n",
       "      <th>color</th>\n",
       "      <th>clarity</th>\n",
       "      <th>depth</th>\n",
       "      <th>table</th>\n",
       "      <th>price</th>\n",
       "      <th>x</th>\n",
       "      <th>y</th>\n",
       "      <th>z</th>\n",
       "    </tr>\n",
       "  </thead>\n",
       "  <tbody>\n",
       "    <tr>\n",
       "      <th>0</th>\n",
       "      <td>0.23</td>\n",
       "      <td>Ideal</td>\n",
       "      <td>E</td>\n",
       "      <td>SI2</td>\n",
       "      <td>61.5</td>\n",
       "      <td>55.0</td>\n",
       "      <td>326</td>\n",
       "      <td>3.95</td>\n",
       "      <td>3.98</td>\n",
       "      <td>2.43</td>\n",
       "    </tr>\n",
       "    <tr>\n",
       "      <th>1</th>\n",
       "      <td>0.21</td>\n",
       "      <td>Premium</td>\n",
       "      <td>E</td>\n",
       "      <td>SI1</td>\n",
       "      <td>59.8</td>\n",
       "      <td>61.0</td>\n",
       "      <td>326</td>\n",
       "      <td>3.89</td>\n",
       "      <td>3.84</td>\n",
       "      <td>2.31</td>\n",
       "    </tr>\n",
       "    <tr>\n",
       "      <th>2</th>\n",
       "      <td>0.23</td>\n",
       "      <td>Good</td>\n",
       "      <td>E</td>\n",
       "      <td>VS1</td>\n",
       "      <td>56.9</td>\n",
       "      <td>65.0</td>\n",
       "      <td>327</td>\n",
       "      <td>4.05</td>\n",
       "      <td>4.07</td>\n",
       "      <td>2.31</td>\n",
       "    </tr>\n",
       "    <tr>\n",
       "      <th>3</th>\n",
       "      <td>0.29</td>\n",
       "      <td>Premium</td>\n",
       "      <td>I</td>\n",
       "      <td>VS2</td>\n",
       "      <td>62.4</td>\n",
       "      <td>58.0</td>\n",
       "      <td>334</td>\n",
       "      <td>4.20</td>\n",
       "      <td>4.23</td>\n",
       "      <td>2.63</td>\n",
       "    </tr>\n",
       "    <tr>\n",
       "      <th>4</th>\n",
       "      <td>0.31</td>\n",
       "      <td>Good</td>\n",
       "      <td>J</td>\n",
       "      <td>SI2</td>\n",
       "      <td>63.3</td>\n",
       "      <td>58.0</td>\n",
       "      <td>335</td>\n",
       "      <td>4.34</td>\n",
       "      <td>4.35</td>\n",
       "      <td>2.75</td>\n",
       "    </tr>\n",
       "  </tbody>\n",
       "</table>\n",
       "</div>"
      ],
      "text/plain": [
       "   carat      cut color clarity  depth  table  price     x     y     z\n",
       "0   0.23    Ideal     E     SI2   61.5   55.0    326  3.95  3.98  2.43\n",
       "1   0.21  Premium     E     SI1   59.8   61.0    326  3.89  3.84  2.31\n",
       "2   0.23     Good     E     VS1   56.9   65.0    327  4.05  4.07  2.31\n",
       "3   0.29  Premium     I     VS2   62.4   58.0    334  4.20  4.23  2.63\n",
       "4   0.31     Good     J     SI2   63.3   58.0    335  4.34  4.35  2.75"
      ]
     },
     "execution_count": 36,
     "metadata": {},
     "output_type": "execute_result"
    }
   ],
   "source": [
    "# Loading the 'diamonds' dataset from the seaborn library\n",
    "df = sns.load_dataset('diamonds')\n",
    "print(\"Shape of the dataset:\", df.shape)\n",
    "df.head()"
   ]
  },
  {
   "cell_type": "code",
   "execution_count": 37,
   "id": "b42c28b5",
   "metadata": {},
   "outputs": [
    {
     "name": "stdout",
     "output_type": "stream",
     "text": [
      "Shape of the dataset after removal: (53940, 7)\n",
      "   carat  depth  table  price     x     y     z\n",
      "0   0.23   61.5   55.0    326  3.95  3.98  2.43\n",
      "1   0.21   59.8   61.0    326  3.89  3.84  2.31\n",
      "2   0.23   56.9   65.0    327  4.05  4.07  2.31\n",
      "3   0.29   62.4   58.0    334  4.20  4.23  2.63\n",
      "4   0.31   63.3   58.0    335  4.34  4.35  2.75\n"
     ]
    }
   ],
   "source": [
    "# Removing non-numeric columns from the DataFrame\n",
    "df = df.select_dtypes(include=['float64', 'int64'])\n",
    "\n",
    "# Dropping rows with missing values\n",
    "df = df.dropna()\n",
    "\n",
    "# Printing the shape of the dataset after the removal\n",
    "print(\"Shape of the dataset after removal:\", df.shape)   # (53940, 7)\n",
    "\n",
    "# Displaying the first few rows of the modified dataset\n",
    "print(df.head())"
   ]
  },
  {
   "cell_type": "code",
   "execution_count": 38,
   "id": "1d86f11c",
   "metadata": {},
   "outputs": [
    {
     "name": "stdout",
     "output_type": "stream",
     "text": [
      "carat: True\n",
      "depth: True\n",
      "table: True\n",
      "price: True\n",
      "x: True\n",
      "y: True\n",
      "z: True\n"
     ]
    }
   ],
   "source": [
    "# Checking for outliers in each column of the DataFrame\n",
    "for col in df.columns:\n",
    "    print(f\"{col}: {check_outlier(df, col)}\")"
   ]
  },
  {
   "cell_type": "code",
   "execution_count": 40,
   "id": "dadc0391",
   "metadata": {},
   "outputs": [
    {
     "name": "stdout",
     "output_type": "stream",
     "text": [
      "Number of 'carat' outliers: 1889\n"
     ]
    }
   ],
   "source": [
    "# Checking how many rows contain outliers in the 'carat' column\n",
    "low, up = outlier_thresholds(df, \"carat\")\n",
    "carat_outliers = df[((df[\"carat\"] < low) | (df[\"carat\"] > up))].shape[0]\n",
    "print(f\"Number of 'carat' outliers: {carat_outliers}\")  # (1889)"
   ]
  },
  {
   "cell_type": "code",
   "execution_count": 41,
   "id": "a456ec12",
   "metadata": {},
   "outputs": [
    {
     "name": "stdout",
     "output_type": "stream",
     "text": [
      "Number of 'depth' outliers: 2545\n"
     ]
    }
   ],
   "source": [
    "# Checking how many rows contain outliers in the 'depth' column\n",
    "low, up = outlier_thresholds(df, \"depth\")\n",
    "depth_outliers = df[((df[\"depth\"] < low) | (df[\"depth\"] > up))].shape[0]\n",
    "print(f\"Number of 'depth' outliers: {depth_outliers}\")  # (2545)"
   ]
  },
  {
   "cell_type": "code",
   "execution_count": 43,
   "id": "4b2238e2",
   "metadata": {},
   "outputs": [
    {
     "name": "stdout",
     "output_type": "stream",
     "text": [
      "Outlier scores: [-1.58352526 -1.59732899 -1.62278873 ... -1.06721815 -1.00809552\n",
      " -1.00849038]\n",
      "Top 5 outlier scores: [-8.60430658 -8.20889984 -5.86084355 -4.98415175 -4.81502092]\n"
     ]
    }
   ],
   "source": [
    "# Creating a Local Outlier Factor model with n_neighbors = 20\n",
    "clf = LocalOutlierFactor(n_neighbors=20)\n",
    "clf.fit_predict(df)\n",
    "df_scores = clf.negative_outlier_factor_\n",
    "\n",
    "# Displaying the outlier scores\n",
    "print(\"Outlier scores:\", df_scores)\n",
    "\n",
    "# Sorting the outlier scores and displaying the first 5\n",
    "print(\"Top 5 outlier scores:\", np.sort(df_scores)[:5])"
   ]
  },
  {
   "cell_type": "code",
   "execution_count": 44,
   "id": "f727eb19",
   "metadata": {},
   "outputs": [
    {
     "data": {
      "image/png": "[encoded data removed]",
      "text/plain": [
       "<Figure size 640x480 with 1 Axes>"
      ]
     },
     "metadata": {},
     "output_type": "display_data"
    }
   ],
   "source": [
    "# Plotting the first 20 sorted outlier scores\n",
    "scores = pd.DataFrame(np.sort(df_scores))\n",
    "scores.plot(stacked=True, xlim=[0, 20], style='.-')\n",
    "plt.show() "
   ]
  },
  {
   "cell_type": "code",
   "execution_count": 47,
   "id": "4a357769",
   "metadata": {},
   "outputs": [
    {
     "name": "stdout",
     "output_type": "stream",
     "text": [
      "Threshold value: -4.984151747711709\n"
     ]
    }
   ],
   "source": [
    "# Selecting the threshold value from the sorted outlier scores (4th point)\n",
    "threshold = np.sort(df_scores)[3]\n",
    "print(\"Threshold value:\", threshold)"
   ]
  },
  {
   "cell_type": "code",
   "execution_count": 49,
   "id": "798808c7",
   "metadata": {},
   "outputs": [
    {
     "name": "stdout",
     "output_type": "stream",
     "text": [
      "Rows classified as outliers:\n",
      "       carat  depth  table  price     x      y      z\n",
      "41918   1.03   78.2   54.0   1262  5.72   5.59   4.42\n",
      "48410   0.51   61.8   54.7   1970  5.12   5.15  31.80\n",
      "49189   0.51   61.8   55.0   2075  5.15  31.80   5.12\n"
     ]
    }
   ],
   "source": [
    "# Filtering rows that have outlier scores below the threshold\n",
    "outliers = df[df_scores < threshold]\n",
    "print(\"Rows classified as outliers:\")\n",
    "print(outliers)"
   ]
  },
  {
   "cell_type": "code",
   "execution_count": 50,
   "id": "88a7ac9a",
   "metadata": {},
   "outputs": [
    {
     "name": "stdout",
     "output_type": "stream",
     "text": [
      "Shape of the dataset after removing outliers: (53937, 7)\n"
     ]
    }
   ],
   "source": [
    "# Dropping the rows identified as outliers from the dataset\n",
    "cleaned_df = df.drop(axis=0, labels=df[df_scores < threshold].index)\n",
    "\n",
    "# Printing the shape of the dataset after removing outliers\n",
    "print(\"Shape of the dataset after removing outliers:\", cleaned_df.shape)  # (53937, 7)"
   ]
  }
 ],
 "metadata": {
  "kernelspec": {
   "display_name": "Python 3 (ipykernel)",
   "language": "python",
   "name": "python3"
  },
  "language_info": {
   "codemirror_mode": {
    "name": "ipython",
    "version": 3
   },
   "file_extension": ".py",
   "mimetype": "text/x-python",
   "name": "python",
   "nbconvert_exporter": "python",
   "pygments_lexer": "ipython3",
   "version": "3.9.13"
  }
 },
 "nbformat": 4,
 "nbformat_minor": 5
}
